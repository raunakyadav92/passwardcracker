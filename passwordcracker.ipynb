{
  "nbformat": 4,
  "nbformat_minor": 0,
  "metadata": {
    "colab": {
      "provenance": [],
      "authorship_tag": "ABX9TyPFXiYGfudeOkBa2zWVQmTE",
      "include_colab_link": true
    },
    "kernelspec": {
      "name": "python3",
      "display_name": "Python 3"
    },
    "language_info": {
      "name": "python"
    }
  },
  "cells": [
    {
      "cell_type": "markdown",
      "metadata": {
        "id": "view-in-github",
        "colab_type": "text"
      },
      "source": [
        "<a href=\"https://colab.research.google.com/github/raunakyadav92/passwardcracker/blob/main/passwordcracker.ipynb\" target=\"_parent\"><img src=\"https://colab.research.google.com/assets/colab-badge.svg\" alt=\"Open In Colab\"/></a>"
      ]
    },
    {
      "cell_type": "code",
      "execution_count": null,
      "metadata": {
        "id": "pXhTGIMr_UTX"
      },
      "outputs": [],
      "source": [
        "import random\n",
        "\n",
        "def laptop_password_cracker():\n",
        "    print(\"\\n=== 🔐 Laptop Password Cracker ===\\n\")\n",
        "    passwords = [\"open123\", \"letmein\", \"admin\", \"password\", \"1234\"]\n",
        "    correct_password = random.choice(passwords)\n",
        "\n",
        "    attempts = 3\n",
        "    while attempts > 0:\n",
        "        guess = input(\"Enter password: \").strip().lower()\n",
        "        if guess == correct_password:\n",
        "            print(\"✅ Access Granted! You hacked the laptop! 😎\")\n",
        "            break\n",
        "        else:\n",
        "            attempts -= 1\n",
        "            print(f\"❌ Wrong password! Attempts left: {attempts}\")\n",
        "\n",
        "    if attempts == 0:\n",
        "        print(f\"💻 Laptop locked! The correct password was: {correct_password}\")\n",
        "\n",
        "if __name__ == \"__main__\":\n",
        "    laptop_password_cracker()\n"
      ]
    }
  ]
}